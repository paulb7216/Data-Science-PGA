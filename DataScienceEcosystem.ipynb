{
 "cells": [
  {
   "cell_type": "markdown",
   "id": "1c8db439-f76f-447d-8685-39f46c6776fc",
   "metadata": {},
   "source": [
    "# Data Science Tools and Ecosystem\n"
   ]
  },
  {
   "cell_type": "markdown",
   "id": "8ba5199a-3e06-4cfc-a1c8-5bd4198c6c23",
   "metadata": {},
   "source": [
    "### In this notebook, Data Science Tools and Ecosystem are summarized."
   ]
  },
  {
   "cell_type": "markdown",
   "id": "844ef530-25ab-470c-a93a-4172fa27fb56",
   "metadata": {},
   "source": [
    "**Objectives:**\n",
    "+ List popular languages for Data Science\n",
    "+ List some commonly used libraries for Data Science\n",
    "+ List some Data Science Tools\n",
    "+ Evaluate basic arithmetics in Python\n",
    "+ Demonstrate a basic understanding of compiling a Jupyter Notebook"
   ]
  },
  {
   "cell_type": "code",
   "execution_count": null,
   "id": "48a82f53-52ab-417a-8646-922f7bd0efae",
   "metadata": {},
   "outputs": [],
   "source": []
  },
  {
   "cell_type": "markdown",
   "id": "8a57048e-e229-4b5a-be8f-eb3787d85fbf",
   "metadata": {},
   "source": [
    "### Some of the popular languages that Data Scientists use are:\n",
    "1. Python.\n",
    "2. R.\n",
    "3. VBA.\n",
    "4. Scala"
   ]
  },
  {
   "cell_type": "markdown",
   "id": "9bc5ffe0-da83-421c-8ec6-29224c1d6773",
   "metadata": {},
   "source": [
    "### Some of the commonly used libraries used by Data Scientists include:\n",
    "1. Matplotlib\n",
    "2. NumPy\n",
    "3. Pandas\n",
    "4. Seaborn"
   ]
  },
  {
   "cell_type": "markdown",
   "id": "1993bb3a-8ac8-48a7-9039-ab630385536f",
   "metadata": {},
   "source": []
  },
  {
   "cell_type": "markdown",
   "id": "24d3e945-d078-4fb2-bf0e-cbec21978f1f",
   "metadata": {},
   "source": [
    "|Data Science Tools|\n",
    "|------------------|\n",
    "|Git               |\n",
    "|Visual Studio Code|\n",
    "|IntelliJ IDEA     |\n"
   ]
  },
  {
   "cell_type": "markdown",
   "id": "c5e0162d-e38b-4c1b-8ca8-b1ad00db98d6",
   "metadata": {},
   "source": [
    "### Below are a few examples of evaluating arithmetic expressions in Python."
   ]
  },
  {
   "cell_type": "markdown",
   "id": "7a3b4f53-57a4-4461-b1c0-e0fa5a111f07",
   "metadata": {},
   "source": [
    "This is a simple arithmetic expression to multiply then add integers."
   ]
  },
  {
   "cell_type": "code",
   "execution_count": 12,
   "id": "12a72aec-3ef8-4d2d-a904-0b2a5d2b9a83",
   "metadata": {},
   "outputs": [
    {
     "data": {
      "text/plain": [
       "17"
      ]
     },
     "execution_count": 12,
     "metadata": {},
     "output_type": "execute_result"
    }
   ],
   "source": [
    "(3*4)+5"
   ]
  },
  {
   "cell_type": "markdown",
   "id": "bbfd0fce-03a0-43a5-a83c-d0ae74e76c8e",
   "metadata": {},
   "source": [
    "This will convert 200 minutes into hours by dividing by 60."
   ]
  },
  {
   "cell_type": "code",
   "execution_count": 18,
   "id": "571da662-bd97-439e-97b7-7eb5cc5a956a",
   "metadata": {},
   "outputs": [
    {
     "data": {
      "text/plain": [
       "3.3333333333333335"
      ]
     },
     "execution_count": 18,
     "metadata": {},
     "output_type": "execute_result"
    }
   ],
   "source": [
    "200/60"
   ]
  },
  {
   "cell_type": "code",
   "execution_count": null,
   "id": "85401102-9239-436a-be0b-7d284240138f",
   "metadata": {},
   "outputs": [],
   "source": []
  },
  {
   "cell_type": "markdown",
   "id": "c70eac69-eb04-4414-9862-b1a2e5f4461c",
   "metadata": {},
   "source": [
    "## Author\n",
    "Paul Brown"
   ]
  },
  {
   "cell_type": "code",
   "execution_count": null,
   "id": "3870ca61-d54b-45a5-9d9a-44c6067b3c08",
   "metadata": {},
   "outputs": [],
   "source": []
  }
 ],
 "metadata": {
  "kernelspec": {
   "display_name": "Python 3 (ipykernel)",
   "language": "python",
   "name": "python3"
  },
  "language_info": {
   "codemirror_mode": {
    "name": "ipython",
    "version": 3
   },
   "file_extension": ".py",
   "mimetype": "text/x-python",
   "name": "python",
   "nbconvert_exporter": "python",
   "pygments_lexer": "ipython3",
   "version": "3.11.7"
  }
 },
 "nbformat": 4,
 "nbformat_minor": 5
}
